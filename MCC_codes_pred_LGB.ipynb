{
  "metadata": {
    "kernelspec": {
      "language": "python",
      "display_name": "Python 3",
      "name": "python3"
    },
    "language_info": {
      "name": "python",
      "version": "3.7.12",
      "mimetype": "text/x-python",
      "codemirror_mode": {
        "name": "ipython",
        "version": 3
      },
      "pygments_lexer": "ipython3",
      "nbconvert_exporter": "python",
      "file_extension": ".py"
    },
    "colab": {
      "provenance": []
    }
  },
  "nbformat_minor": 0,
  "nbformat": 4,
  "cells": [
    {
      "cell_type": "markdown",
      "source": [
        "# Описание задачи\n",
        "Задача — предсказать следующие 10 MCC-кодов 7033 клиентов, основываясь на их предыдущих тратах.\n",
        "\n",
        "В качестве тренировочной выборки предоставлены последовательности MCC-кодов  7033 клиентов с таргетом в виде 10 последующих MCC-кодов.\n",
        "\n",
        "Изначально пытался предсказать 10 следующих MCC кодов, но в результате метрика на Kagle была низкой. Попытавшись подстроиться под метрику на Kagle, понял, что нужно предсказать не 10 следующих MCC кодов, а список из 10 кодов отранжированый по вероятности следующей покупкой."
      ],
      "metadata": {
        "id": "w3lDuRwf-2vH"
      }
    },
    {
      "cell_type": "markdown",
      "source": [],
      "metadata": {
        "id": "59sSC2mgGLI3"
      }
    },
    {
      "cell_type": "markdown",
      "source": [
        "## Библиотеки"
      ],
      "metadata": {
        "id": "cpmAVKiyVntT"
      }
    },
    {
      "cell_type": "code",
      "source": [
        "import numpy as np\n",
        "import pandas as pd\n",
        "from collections import Counter\n",
        "import lightgbm as lgb\n",
        "import warnings\n",
        "warnings.filterwarnings(\"ignore\")\n"
      ],
      "metadata": {
        "execution": {
          "iopub.status.busy": "2023-10-12T21:02:43.215201Z",
          "iopub.execute_input": "2023-10-12T21:02:43.215680Z",
          "iopub.status.idle": "2023-10-12T21:02:45.439163Z",
          "shell.execute_reply.started": "2023-10-12T21:02:43.215608Z",
          "shell.execute_reply": "2023-10-12T21:02:45.438166Z"
        },
        "trusted": true,
        "id": "FC6OgKk9VntU"
      },
      "execution_count": null,
      "outputs": []
    },
    {
      "cell_type": "markdown",
      "source": [
        "## Функции"
      ],
      "metadata": {
        "id": "TXk25BEHVntV"
      }
    },
    {
      "cell_type": "code",
      "source": [
        "def apk(actual, predicted, k=10):\n",
        "    if len(predicted) > k:\n",
        "        predicted = predicted[:k]\n",
        "\n",
        "    score = 0.0\n",
        "    num_hits = 0.0\n",
        "\n",
        "    for i, p in enumerate(predicted):\n",
        "        if p in actual:\n",
        "            position_in_actual = actual.index(p)\n",
        "            # Вводим коэффициент позиции, который учитывает порядок\n",
        "            position_coefficient = 1.0 / (position_in_actual + 1)\n",
        "            if p not in predicted[:i]:\n",
        "                num_hits += 1.0\n",
        "                score += (num_hits / (i + 1.0)) * position_coefficient\n",
        "\n",
        "    if not actual:\n",
        "        return 0.0\n",
        "\n",
        "    return score / min(len(actual), k)\n",
        "\n",
        "def mapk(actual, predicted, k=10):\n",
        "    return np.mean([apk(a, p, k) for a, p in zip(actual, predicted)])\n"
      ],
      "metadata": {
        "execution": {
          "iopub.status.busy": "2023-10-12T21:03:19.438677Z",
          "iopub.execute_input": "2023-10-12T21:03:19.438941Z",
          "iopub.status.idle": "2023-10-12T21:03:19.445996Z",
          "shell.execute_reply.started": "2023-10-12T21:03:19.438913Z",
          "shell.execute_reply": "2023-10-12T21:03:19.445161Z"
        },
        "trusted": true,
        "id": "YBnHlosYVntW"
      },
      "execution_count": null,
      "outputs": []
    },
    {
      "cell_type": "markdown",
      "source": [
        "## Получение данных"
      ],
      "metadata": {
        "id": "kDvIPYOuVntW"
      }
    },
    {
      "cell_type": "code",
      "source": [
        "df_train = pd.read_csv('/kaggle/input/alfabankchallengedata/df_train.csv', sep=';')\n",
        "df_test = pd.read_csv('/kaggle/input/alfabankchallengedata/df_test.csv', sep=';')"
      ],
      "metadata": {
        "execution": {
          "iopub.status.busy": "2023-10-12T21:03:22.534763Z",
          "iopub.execute_input": "2023-10-12T21:03:22.535133Z",
          "iopub.status.idle": "2023-10-12T21:03:23.408001Z",
          "shell.execute_reply.started": "2023-10-12T21:03:22.535086Z",
          "shell.execute_reply": "2023-10-12T21:03:23.407327Z"
        },
        "trusted": true,
        "id": "PGaP8uAmVntW"
      },
      "execution_count": null,
      "outputs": []
    },
    {
      "cell_type": "code",
      "source": [
        "df_train['Data'] = df_train.Data.apply(lambda s: list(map(int, s.split(','))))\n",
        "df_train['Target'] = df_train.Target.apply(lambda s: list(map(int, s.split(','))))\n",
        "df_test['Data'] = df_test.Data.apply(lambda s: list(map(int, s.split(','))))"
      ],
      "metadata": {
        "execution": {
          "iopub.status.busy": "2023-10-12T21:03:23.412065Z",
          "iopub.execute_input": "2023-10-12T21:03:23.413889Z",
          "iopub.status.idle": "2023-10-12T21:03:25.149958Z",
          "shell.execute_reply.started": "2023-10-12T21:03:23.413855Z",
          "shell.execute_reply": "2023-10-12T21:03:25.149194Z"
        },
        "trusted": true,
        "id": "uajotLE_VntW"
      },
      "execution_count": null,
      "outputs": []
    },
    {
      "cell_type": "code",
      "source": [
        "# Функция для расширения df_train и добавления ранга\n",
        "def expand_rows_with_rank(df):\n",
        "    data = []\n",
        "    for _, row in df.iterrows():\n",
        "        rank = 1\n",
        "        for mcc in row['Target']:\n",
        "            data.append([row['Id'], mcc, rank])\n",
        "            rank += 1\n",
        "    return pd.DataFrame(data, columns=['Id', 'mcc_code', 'rank'])\n",
        "\n",
        "# Применение функции к df_train\n",
        "expanded_df = expand_rows_with_rank(df_train)\n",
        "\n",
        "# Функция для расширения df_test\n",
        "def expand_rows_without_target(df):\n",
        "    data = []\n",
        "    for _, row in df.iterrows():\n",
        "        for mcc in row['Data']:\n",
        "            data.append([row['Id'], mcc])\n",
        "    return pd.DataFrame(data, columns=['Id', 'mcc_code'])\n",
        "\n",
        "# Применение функции к df_test\n",
        "expanded_df_test = expand_rows_without_target(df_test)\n"
      ],
      "metadata": {
        "execution": {
          "iopub.status.busy": "2023-10-12T21:03:25.151077Z",
          "iopub.execute_input": "2023-10-12T21:03:25.151854Z",
          "iopub.status.idle": "2023-10-12T21:03:40.408552Z",
          "shell.execute_reply.started": "2023-10-12T21:03:25.151815Z",
          "shell.execute_reply": "2023-10-12T21:03:40.407732Z"
        },
        "trusted": true,
        "id": "UZ73h8lmVntW"
      },
      "execution_count": null,
      "outputs": []
    },
    {
      "cell_type": "code",
      "source": [
        "from tqdm import tqdm\n",
        "tqdm.pandas()\n",
        "\n",
        "# Создаем словарь для быстрого доступа к данным\n",
        "user_data_dict = expanded_df.groupby('Id')['mcc_code'].apply(list).to_dict()\n",
        "\n",
        "def mcc_counts_for_user_optimized(user_id, mcc_code):\n",
        "    user_data = user_data_dict.get(user_id, [])\n",
        "    return user_data.count(mcc_code)\n",
        "\n",
        "expanded_df['mcc_count'] = expanded_df.progress_apply(lambda row: mcc_counts_for_user_optimized(row['Id'], row['mcc_code']), axis=1)\n",
        "expanded_df_test['mcc_count'] = expanded_df_test.progress_apply(lambda row: mcc_counts_for_user_optimized(row['Id'], row['mcc_code']), axis=1)\n"
      ],
      "metadata": {
        "execution": {
          "iopub.status.busy": "2023-10-12T21:03:40.410346Z",
          "iopub.execute_input": "2023-10-12T21:03:40.410738Z",
          "iopub.status.idle": "2023-10-12T21:04:26.641611Z",
          "shell.execute_reply.started": "2023-10-12T21:03:40.410702Z",
          "shell.execute_reply": "2023-10-12T21:04:26.640836Z"
        },
        "trusted": true,
        "id": "UB2IK3llVntX",
        "outputId": "0f99a6d1-ba49-4c6b-aa5a-2efdbb83a5e6"
      },
      "execution_count": null,
      "outputs": [
        {
          "name": "stderr",
          "text": "100%|██████████| 70330/70330 [00:00<00:00, 78338.89it/s]\n100%|██████████| 3353026/3353026 [00:45<00:00, 74180.88it/s]\n",
          "output_type": "stream"
        }
      ]
    },
    {
      "cell_type": "code",
      "source": [
        "N = 10\n",
        "\n",
        "def last_n_counts(mcc_list, n=N):\n",
        "    if not isinstance(mcc_list, list):\n",
        "        return {}\n",
        "    return {mcc: mcc_list[-n:].count(mcc) for mcc in set(mcc_list[-n:])}\n",
        "\n",
        "\n",
        "\n",
        "# Для expanded_df, предполагая что у вас есть столбец 'Data' в expanded_df с историей MCC кодов для каждого пользователя\n",
        "expanded_df['last_n_counts'] = df_train['Data'].apply(last_n_counts)\n",
        "expanded_df_test['last_n_counts'] = df_test['Data'].apply(last_n_counts)"
      ],
      "metadata": {
        "execution": {
          "iopub.status.busy": "2023-10-12T19:25:02.458639Z",
          "iopub.execute_input": "2023-10-12T19:25:02.459147Z",
          "iopub.status.idle": "2023-10-12T19:25:02.609541Z",
          "shell.execute_reply.started": "2023-10-12T19:25:02.459110Z",
          "shell.execute_reply": "2023-10-12T19:25:02.608699Z"
        },
        "trusted": true,
        "id": "UcOU0ndPVntX"
      },
      "execution_count": null,
      "outputs": []
    },
    {
      "cell_type": "code",
      "source": [
        "expanded_df['last_n_counts'] = expanded_df['last_n_counts'].apply(lambda x: x if isinstance(x, dict) else {})\n",
        "expanded_df_test['last_n_counts'] = expanded_df_test['last_n_counts'].apply(lambda x: x if isinstance(x, dict) else {})"
      ],
      "metadata": {
        "execution": {
          "iopub.status.busy": "2023-10-12T19:25:02.611166Z",
          "iopub.execute_input": "2023-10-12T19:25:02.611958Z",
          "iopub.status.idle": "2023-10-12T19:25:04.082225Z",
          "shell.execute_reply.started": "2023-10-12T19:25:02.611916Z",
          "shell.execute_reply": "2023-10-12T19:25:04.081376Z"
        },
        "trusted": true,
        "id": "xqVkJywOVntY"
      },
      "execution_count": null,
      "outputs": []
    },
    {
      "cell_type": "code",
      "source": [
        "mcc_cols_train = pd.DataFrame(expanded_df['last_n_counts'].tolist())\n",
        "mcc_cols_train.columns = ['mcc_' + str(col) for col in mcc_cols_train.columns]\n",
        "expanded_df = pd.concat([expanded_df.drop(columns=['last_n_counts']), mcc_cols_train], axis=1)\n",
        "expanded_df.fillna(0, inplace=True)\n",
        "\n",
        "mcc_cols_test = pd.DataFrame(expanded_df_test['last_n_counts'].tolist())\n",
        "mcc_cols_test.columns = ['mcc_' + str(col) for col in mcc_cols_test.columns]\n",
        "expanded_df_test = pd.concat([expanded_df_test.drop(columns=['last_n_counts']), mcc_cols_test], axis=1)\n",
        "expanded_df_test.fillna(0, inplace=True)\n"
      ],
      "metadata": {
        "execution": {
          "iopub.status.busy": "2023-10-12T19:25:04.083479Z",
          "iopub.execute_input": "2023-10-12T19:25:04.084300Z"
        },
        "trusted": true,
        "id": "lukG9o7JVntY"
      },
      "execution_count": null,
      "outputs": []
    },
    {
      "cell_type": "code",
      "source": [
        "# Создаем словарь для быстрого доступа к данным\n",
        "user_data_dict = df_train.set_index('Id')['Data'].to_dict()\n",
        "\n",
        "def last_occurrence_for_user_optimized(user_id, mcc_code):\n",
        "    user_data = user_data_dict.get(user_id, [])\n",
        "\n",
        "    # Проверяем, существует ли mcc_code в user_data\n",
        "    if mcc_code in user_data:\n",
        "        return len(user_data) - 1 - user_data[::-1].index(mcc_code)\n",
        "    else:\n",
        "        return -1  # или любое другое значение, указывающее на отсутствие mcc_code в user_data\n",
        "\n",
        "expanded_df['last_occurrence'] = expanded_df.progress_apply(lambda row: last_occurrence_for_user_optimized(row['Id'], row['mcc_code']), axis=1)\n",
        "expanded_df_test['last_occurrence'] = expanded_df_test.progress_apply(lambda row: last_occurrence_for_user_optimized(row['Id'], row['mcc_code']), axis=1)\n"
      ],
      "metadata": {
        "execution": {
          "iopub.status.busy": "2023-10-12T21:04:26.642844Z",
          "iopub.execute_input": "2023-10-12T21:04:26.643575Z",
          "iopub.status.idle": "2023-10-12T21:06:06.301681Z",
          "shell.execute_reply.started": "2023-10-12T21:04:26.643539Z",
          "shell.execute_reply": "2023-10-12T21:06:06.300954Z"
        },
        "trusted": true,
        "id": "TwyRRiFVVntY",
        "outputId": "19a2f4c9-75b6-456f-88ad-27f62768622b"
      },
      "execution_count": null,
      "outputs": [
        {
          "name": "stderr",
          "text": "100%|██████████| 70330/70330 [00:01<00:00, 49011.77it/s]\n100%|██████████| 3353026/3353026 [01:38<00:00, 34149.58it/s]\n",
          "output_type": "stream"
        }
      ]
    },
    {
      "cell_type": "code",
      "source": [
        "def avg_interval_for_user(user_id, mcc_code):\n",
        "    # Получаем историю MCC кодов для данного пользователя\n",
        "    user_data = expanded_df[expanded_df['Id'] == user_id]['mcc_code'].tolist()\n",
        "\n",
        "    # Определите индексы, на которых появляется данный mcc_code\n",
        "    indices = [i for i, x in enumerate(user_data) if x == mcc_code]\n",
        "\n",
        "    # Вычислите средний интервал между этими индексами\n",
        "    intervals = [indices[i+1] - indices[i] for i in range(len(indices)-1)]\n",
        "\n",
        "    return sum(intervals) / len(intervals) if intervals else -1\n",
        "\n",
        "expanded_df['avg_interval'] = expanded_df.progress_apply(lambda row: avg_interval_for_user(row['Id'], row['mcc_code']), axis=1)\n",
        "expanded_df_test['avg_interval'] = expanded_df_test.progress_apply(lambda row: avg_interval_for_user(row['Id'], row['mcc_code']), axis=1)\n"
      ],
      "metadata": {
        "execution": {
          "iopub.status.busy": "2023-10-12T21:06:06.303100Z",
          "iopub.execute_input": "2023-10-12T21:06:06.303613Z",
          "iopub.status.idle": "2023-10-12T21:32:11.906606Z",
          "shell.execute_reply.started": "2023-10-12T21:06:06.303577Z",
          "shell.execute_reply": "2023-10-12T21:32:11.905812Z"
        },
        "trusted": true,
        "id": "s_-6Yvb3VntY",
        "outputId": "6e6ec1e9-1998-4d4a-81a5-c81667c44443"
      },
      "execution_count": null,
      "outputs": [
        {
          "name": "stderr",
          "text": "100%|██████████| 70330/70330 [00:30<00:00, 2291.56it/s]\n100%|██████████| 3353026/3353026 [25:34<00:00, 2184.55it/s]\n",
          "output_type": "stream"
        }
      ]
    },
    {
      "cell_type": "code",
      "source": [
        "def trend_last_n_for_user(user_id, mcc_code, n=10):\n",
        "    mcc_list = user_data_dict.get(user_id, [])\n",
        "\n",
        "    if len(mcc_list) <= n:\n",
        "        # Если у пользователя меньше или равно N транзакций, то невозможно определить тренд\n",
        "        return -1\n",
        "\n",
        "    last_n = mcc_list[-n:]\n",
        "    recent_count = last_n.count(mcc_code)\n",
        "    earlier_count = mcc_list[:-n].count(mcc_code) / (len(mcc_list) - n)\n",
        "\n",
        "    return 1 if recent_count > earlier_count else 0\n",
        "\n",
        "expanded_df['trend_last_n'] = expanded_df.progress_apply(lambda row: trend_last_n_for_user(row['Id'], row['mcc_code']), axis=1)\n",
        "expanded_df_test['trend_last_n'] = expanded_df_test.progress_apply(lambda row: trend_last_n_for_user(row['Id'], row['mcc_code']), axis=1)\n"
      ],
      "metadata": {
        "execution": {
          "iopub.status.busy": "2023-10-12T21:32:11.908002Z",
          "iopub.execute_input": "2023-10-12T21:32:11.908269Z",
          "iopub.status.idle": "2023-10-12T21:37:50.630563Z",
          "shell.execute_reply.started": "2023-10-12T21:32:11.908235Z",
          "shell.execute_reply": "2023-10-12T21:37:50.629789Z"
        },
        "trusted": true,
        "id": "g8TOXGNOVntZ",
        "outputId": "90cf8ee3-aca5-42f5-facb-7ba1a65daaca"
      },
      "execution_count": null,
      "outputs": [
        {
          "name": "stderr",
          "text": "100%|██████████| 70330/70330 [00:06<00:00, 10339.17it/s]\n100%|██████████| 3353026/3353026 [05:31<00:00, 10102.79it/s]\n",
          "output_type": "stream"
        }
      ]
    },
    {
      "cell_type": "code",
      "source": [
        "X_train = expanded_df.drop(columns=['Id', 'mcc_code', 'rank'])\n",
        "X_test = expanded_df_test.drop(columns=['Id', 'mcc_code'])\n",
        "y_train = expanded_df['rank']\n"
      ],
      "metadata": {
        "execution": {
          "iopub.status.busy": "2023-10-12T21:37:50.632556Z",
          "iopub.execute_input": "2023-10-12T21:37:50.633200Z",
          "iopub.status.idle": "2023-10-12T21:37:50.762209Z",
          "shell.execute_reply.started": "2023-10-12T21:37:50.633163Z",
          "shell.execute_reply": "2023-10-12T21:37:50.761447Z"
        },
        "trusted": true,
        "id": "DN9f4yWNVntZ"
      },
      "execution_count": null,
      "outputs": []
    },
    {
      "cell_type": "code",
      "source": [
        "unique_mcc_codes = expanded_df['mcc_code'].unique()\n",
        "num_unique_mcc = len(unique_mcc_codes)\n",
        "print(num_unique_mcc)\n"
      ],
      "metadata": {
        "execution": {
          "iopub.status.busy": "2023-10-12T21:37:50.763398Z",
          "iopub.execute_input": "2023-10-12T21:37:50.763807Z",
          "iopub.status.idle": "2023-10-12T21:37:50.770253Z",
          "shell.execute_reply.started": "2023-10-12T21:37:50.763772Z",
          "shell.execute_reply": "2023-10-12T21:37:50.769612Z"
        },
        "trusted": true,
        "id": "qgJkyrnJVntZ",
        "outputId": "411fc3c9-0d98-4027-bb1b-91d7bade11f4"
      },
      "execution_count": null,
      "outputs": [
        {
          "name": "stdout",
          "text": "163\n",
          "output_type": "stream"
        }
      ]
    },
    {
      "cell_type": "code",
      "source": [
        "# Предварительно создаём словарь истинных ранжированных списков MCC-кодов\n",
        "id_to_true_mcc_list = df_train.set_index('Id')['Target'].to_dict()\n",
        "\n",
        "group_train = expanded_df.groupby('Id').size().values\n",
        "train_data = lgb.Dataset(X_train, label=y_train, group=group_train)\n",
        "\n",
        "\n",
        "def lgb_mapk(preds, train_data):\n",
        "    # Извлекаем истинные метки\n",
        "    actuals = train_data.get_label()\n",
        "\n",
        "    # Преобразование предсказаний в ранжированные списки MCC-кодов\n",
        "    predicted_scores_per_user = preds.reshape(-1, 163)\n",
        "    predicted_sorted_indices = np.argsort(predicted_scores_per_user, axis=1)[:, ::-1]\n",
        "    predicted_mcc_lists = [unique_mcc_codes[indices].tolist() for indices in predicted_sorted_indices]\n",
        "\n",
        "    # Извлечение истинных ранжированных списков MCC-кодов\n",
        "    actual_mcc_lists = [id_to_true_mcc_list[id] for id in expanded_df['Id']]\n",
        "\n",
        "    return 'mapk', mapk(actual_mcc_lists, predicted_mcc_lists), True\n",
        "\n"
      ],
      "metadata": {
        "execution": {
          "iopub.status.busy": "2023-10-12T21:37:50.771615Z",
          "iopub.execute_input": "2023-10-12T21:37:50.772268Z",
          "iopub.status.idle": "2023-10-12T21:37:53.505110Z",
          "shell.execute_reply.started": "2023-10-12T21:37:50.772236Z",
          "shell.execute_reply": "2023-10-12T21:37:53.504341Z"
        },
        "trusted": true,
        "id": "OEuZbWlvVntZ",
        "outputId": "6469ad47-e82d-4944-c35e-04f546fca26c"
      },
      "execution_count": null,
      "outputs": [
        {
          "output_type": "display_data",
          "data": {
            "text/plain": "<IPython.core.display.HTML object>",
            "text/html": "<style type='text/css'>\n.datatable table.frame { margin-bottom: 0; }\n.datatable table.frame thead { border-bottom: none; }\n.datatable table.frame tr.coltypes td {  color: #FFFFFF;  line-height: 6px;  padding: 0 0.5em;}\n.datatable .bool    { background: #DDDD99; }\n.datatable .object  { background: #565656; }\n.datatable .int     { background: #5D9E5D; }\n.datatable .float   { background: #4040CC; }\n.datatable .str     { background: #CC4040; }\n.datatable .time    { background: #40CC40; }\n.datatable .row_index {  background: var(--jp-border-color3);  border-right: 1px solid var(--jp-border-color0);  color: var(--jp-ui-font-color3);  font-size: 9px;}\n.datatable .frame tbody td { text-align: left; }\n.datatable .frame tr.coltypes .row_index {  background: var(--jp-border-color0);}\n.datatable th:nth-child(2) { padding-left: 12px; }\n.datatable .hellipsis {  color: var(--jp-cell-editor-border-color);}\n.datatable .vellipsis {  background: var(--jp-layout-color0);  color: var(--jp-cell-editor-border-color);}\n.datatable .na {  color: var(--jp-cell-editor-border-color);  font-size: 80%;}\n.datatable .sp {  opacity: 0.25;}\n.datatable .footer { font-size: 9px; }\n.datatable .frame_dimensions {  background: var(--jp-border-color3);  border-top: 1px solid var(--jp-border-color0);  color: var(--jp-ui-font-color3);  display: inline-block;  opacity: 0.6;  padding: 1px 10px 1px 5px;}\n</style>\n"
          },
          "metadata": {}
        }
      ]
    },
    {
      "cell_type": "code",
      "source": [],
      "metadata": {
        "id": "Kipovet6VntZ"
      },
      "execution_count": null,
      "outputs": []
    },
    {
      "cell_type": "code",
      "source": [
        "params = {\n",
        "    'objective': 'lambdarank',\n",
        "    'metric': 'map@10',\n",
        "}\n",
        "\n",
        "model = lgb.train(params, train_data, num_boost_round=100, feval=lgb_mapk)\n",
        "\n"
      ],
      "metadata": {
        "execution": {
          "iopub.status.busy": "2023-10-12T21:37:53.506496Z",
          "iopub.execute_input": "2023-10-12T21:37:53.506755Z",
          "iopub.status.idle": "2023-10-12T21:37:54.424500Z",
          "shell.execute_reply.started": "2023-10-12T21:37:53.506718Z",
          "shell.execute_reply": "2023-10-12T21:37:54.423731Z"
        },
        "trusted": true,
        "id": "uvg2Fb9uVntZ",
        "outputId": "525294e2-a57a-49d2-855b-a1b37e3f4bf0"
      },
      "execution_count": null,
      "outputs": [
        {
          "name": "stdout",
          "text": "[LightGBM] [Warning] Auto-choosing row-wise multi-threading, the overhead of testing was 0.000975 seconds.\nYou can set `force_row_wise=true` to remove the overhead.\nAnd if memory is not enough, you can set `force_col_wise=true`.\n[LightGBM] [Info] Total Bins 298\n[LightGBM] [Info] Number of data points in the train set: 70330, number of used features: 4\n",
          "output_type": "stream"
        }
      ]
    },
    {
      "cell_type": "code",
      "source": [
        "print(\"Feature importances:\", model.feature_importance())\n"
      ],
      "metadata": {
        "execution": {
          "iopub.status.busy": "2023-10-12T21:43:16.631469Z",
          "iopub.execute_input": "2023-10-12T21:43:16.632193Z",
          "iopub.status.idle": "2023-10-12T21:43:16.639028Z",
          "shell.execute_reply.started": "2023-10-12T21:43:16.632159Z",
          "shell.execute_reply": "2023-10-12T21:43:16.638358Z"
        },
        "trusted": true,
        "id": "KM_bx6pVVnta",
        "outputId": "2ddac3c2-d51c-43a1-daf1-c31615828a5b"
      },
      "execution_count": null,
      "outputs": [
        {
          "name": "stdout",
          "text": "Feature importances: [ 389 1877  562  172]\n",
          "output_type": "stream"
        }
      ]
    },
    {
      "cell_type": "code",
      "source": [
        "y_test_pred = model.predict(X_test)  # X_test - ваши тестовые данные\n"
      ],
      "metadata": {
        "execution": {
          "iopub.status.busy": "2023-10-12T21:43:39.133645Z",
          "iopub.execute_input": "2023-10-12T21:43:39.133915Z",
          "iopub.status.idle": "2023-10-12T21:43:47.863412Z",
          "shell.execute_reply.started": "2023-10-12T21:43:39.133888Z",
          "shell.execute_reply": "2023-10-12T21:43:47.862568Z"
        },
        "trusted": true,
        "id": "sWakxc7_Vnta"
      },
      "execution_count": null,
      "outputs": []
    },
    {
      "cell_type": "code",
      "source": [
        "y_test_pred"
      ],
      "metadata": {
        "execution": {
          "iopub.status.busy": "2023-10-12T21:44:15.143804Z",
          "iopub.execute_input": "2023-10-12T21:44:15.144088Z",
          "iopub.status.idle": "2023-10-12T21:44:15.150551Z",
          "shell.execute_reply.started": "2023-10-12T21:44:15.144059Z",
          "shell.execute_reply": "2023-10-12T21:44:15.149824Z"
        },
        "trusted": true,
        "id": "zm0buaWlVnta",
        "outputId": "76deecfe-27ab-4a86-a19c-fa473137c4c0"
      },
      "execution_count": null,
      "outputs": [
        {
          "execution_count": 16,
          "output_type": "execute_result",
          "data": {
            "text/plain": "array([ 0.0242591 ,  0.0242591 ,  0.02298649, ..., -0.07413741,\n       -0.00225169,  0.0123122 ])"
          },
          "metadata": {}
        }
      ]
    },
    {
      "cell_type": "code",
      "source": [
        "expanded_df_test['preds'] = y_test_pred\n",
        "\n",
        "# Группировка по Id и сортировка внутри каждой группы по предсказаниям\n",
        "grouped = expanded_df_test.groupby('Id', group_keys=False).apply(lambda x: x.sort_values('preds', ascending=False))\n",
        "\n",
        "# Выбор топ-N mcc_code для каждого Id\n",
        "top_n_mcc_per_id = grouped.groupby('Id')['mcc_code'].apply(lambda x: x.head(10).tolist())\n",
        "\n",
        "print(top_n_mcc_per_id)"
      ],
      "metadata": {
        "execution": {
          "iopub.status.busy": "2023-10-12T21:53:22.816417Z",
          "iopub.execute_input": "2023-10-12T21:53:22.816847Z",
          "iopub.status.idle": "2023-10-12T21:53:27.536235Z",
          "shell.execute_reply.started": "2023-10-12T21:53:22.816806Z",
          "shell.execute_reply": "2023-10-12T21:53:27.535535Z"
        },
        "trusted": true,
        "id": "tz3z_SC3Vnta",
        "outputId": "c01fdea7-9671-40b4-e806-6fe5efa08c2f"
      },
      "execution_count": null,
      "outputs": [
        {
          "name": "stdout",
          "text": "Id\n0       [5411, 5411, 5411, 5411, 5411, 5411, 6010, 601...\n1       [4814, 4814, 4814, 4814, 6010, 6010, 6010, 601...\n2       [6011, 6011, 6011, 6011, 6011, 6011, 6011, 601...\n3       [5912, 5912, 5912, 5912, 5912, 5912, 5912, 591...\n4       [4814, 4814, 6011, 4814, 4814, 4814, 6011, 481...\n                              ...                        \n7028    [5211, 5211, 5211, 5211, 5211, 5211, 5211, 521...\n7029    [5912, 5912, 5912, 5912, 5331, 5331, 5331, 533...\n7030    [5200, 5200, 5411, 5411, 5411, 5411, 5912, 541...\n7031    [5541, 5541, 5541, 5541, 5541, 5541, 5541, 554...\n7032    [4812, 5661, 5661, 5211, 5211, 5814, 8999, 731...\nName: mcc_code, Length: 7033, dtype: object\n",
          "output_type": "stream"
        }
      ]
    },
    {
      "cell_type": "code",
      "source": [
        "final_predictions = top_n_mcc_per_id.reset_index()\n",
        "final_predictions.columns = ['Id', 'Predicted']\n",
        "print(final_predictions)\n"
      ],
      "metadata": {
        "execution": {
          "iopub.status.busy": "2023-10-12T21:58:47.466676Z",
          "iopub.execute_input": "2023-10-12T21:58:47.466935Z",
          "iopub.status.idle": "2023-10-12T21:58:47.481557Z",
          "shell.execute_reply.started": "2023-10-12T21:58:47.466908Z",
          "shell.execute_reply": "2023-10-12T21:58:47.480756Z"
        },
        "trusted": true,
        "id": "gYrPWfv7Vnta",
        "outputId": "335fc176-5b05-4948-9638-0260b1bffc54"
      },
      "execution_count": null,
      "outputs": [
        {
          "name": "stdout",
          "text": "        Id                                          Predicted\n0        0  [5411, 5411, 5411, 5411, 5411, 5411, 6010, 601...\n1        1  [4814, 4814, 4814, 4814, 6010, 6010, 6010, 601...\n2        2  [6011, 6011, 6011, 6011, 6011, 6011, 6011, 601...\n3        3  [5912, 5912, 5912, 5912, 5912, 5912, 5912, 591...\n4        4  [4814, 4814, 6011, 4814, 4814, 4814, 6011, 481...\n...    ...                                                ...\n7028  7028  [5211, 5211, 5211, 5211, 5211, 5211, 5211, 521...\n7029  7029  [5912, 5912, 5912, 5912, 5331, 5331, 5331, 533...\n7030  7030  [5200, 5200, 5411, 5411, 5411, 5411, 5912, 541...\n7031  7031  [5541, 5541, 5541, 5541, 5541, 5541, 5541, 554...\n7032  7032  [4812, 5661, 5661, 5211, 5211, 5814, 8999, 731...\n\n[7033 rows x 2 columns]\n",
          "output_type": "stream"
        }
      ]
    },
    {
      "cell_type": "code",
      "source": [
        "all_data = df_train['Data'] + df_train['Target'] + df_test['Data']"
      ],
      "metadata": {
        "execution": {
          "iopub.status.busy": "2024-02-13T19:18:08.535613Z",
          "iopub.execute_input": "2024-02-13T19:18:08.536114Z",
          "iopub.status.idle": "2024-02-13T19:18:08.959442Z",
          "shell.execute_reply.started": "2024-02-13T19:18:08.536079Z",
          "shell.execute_reply": "2024-02-13T19:18:08.957928Z"
        },
        "trusted": true,
        "id": "Km531Kc6G29f"
      },
      "execution_count": null,
      "outputs": []
    },
    {
      "cell_type": "code",
      "source": [
        "total_top_10 = (all_data).explode().value_counts(ascending=False).index[:10]"
      ],
      "metadata": {
        "execution": {
          "iopub.status.busy": "2024-02-13T19:18:13.597895Z",
          "iopub.execute_input": "2024-02-13T19:18:13.598340Z",
          "iopub.status.idle": "2024-02-13T19:18:14.977383Z",
          "shell.execute_reply.started": "2024-02-13T19:18:13.598308Z",
          "shell.execute_reply": "2024-02-13T19:18:14.976138Z"
        },
        "trusted": true,
        "id": "t0RPaPvuG29f"
      },
      "execution_count": null,
      "outputs": []
    },
    {
      "cell_type": "code",
      "source": [
        "sequences_dict = {}\n",
        "\n",
        "# Обработка df_train\n",
        "for index, row in df_train.iterrows():\n",
        "    # Преобразование строки 'Data' и 'Target' в список целых чисел\n",
        "    data_list = list(map(int, row['Data'].split(','))) if isinstance(row['Data'], str) else row['Data']\n",
        "    target_list = list(map(int, row['Target'].split(','))) if isinstance(row['Target'], str) else row['Target']\n",
        "    sequences_dict[row['Id']] = data_list + target_list\n",
        "\n",
        "# Обработка df_test\n",
        "for index, row in df_test.iterrows():\n",
        "    data_list = list(map(int, row['Data'].split(','))) if isinstance(row['Data'], str) else row['Data']\n",
        "    # Для df_test добавляем только 'Data', так как 'Target' неизвестен\n",
        "    if row['Id'] in sequences_dict:\n",
        "        sequences_dict[row['Id']].extend(data_list)\n",
        "    else:\n",
        "        sequences_dict[row['Id']] = data_list\n"
      ],
      "metadata": {
        "execution": {
          "iopub.status.busy": "2024-02-13T19:18:17.588166Z",
          "iopub.execute_input": "2024-02-13T19:18:17.588794Z",
          "iopub.status.idle": "2024-02-13T19:18:18.938952Z",
          "shell.execute_reply.started": "2024-02-13T19:18:17.588762Z",
          "shell.execute_reply": "2024-02-13T19:18:18.937582Z"
        },
        "trusted": true,
        "id": "yfSAmiL9G29f"
      },
      "execution_count": null,
      "outputs": []
    },
    {
      "cell_type": "code",
      "source": [
        "def preprocess_and_postprocess_predictions(final_predictions, total_top_10, sequences_dict):\n",
        "    # Преобразование строки предсказаний в список уникальных целых чисел\n",
        "    def process_predicted_string(predicted_str):\n",
        "        # Удаление скобок и разделение по запятым или пробелам\n",
        "        predicted_codes = [int(code.strip()) for code in predicted_str.strip('[]').replace(',', ' ').split() if code.strip().isdigit()]\n",
        "        # Удаление дубликатов, сохраняя порядок\n",
        "        return list(dict.fromkeys(predicted_codes))\n",
        "\n",
        "    final_predictions['Predicted'] = final_predictions['Predicted'].apply(process_predicted_string)\n",
        "\n",
        "    # Функция для дополнения списка MCC кодов до 10 элементов\n",
        "    def fill_codes(predicted_codes, sequences_dict, total_top_10):\n",
        "        if len(predicted_codes) >= 10:\n",
        "            return predicted_codes[:10]\n",
        "\n",
        "        # Получение списка MCC кодов для данного Id из sequences_dict\n",
        "        user_sequence = sequences_dict.get(row['Id'], [])\n",
        "        code_frequency = Counter(user_sequence)\n",
        "\n",
        "        # Сортировка кодов по частоте встречаемости, исключая уже предсказанные\n",
        "        most_common_codes = [code for code, freq in code_frequency.most_common() if code not in predicted_codes]\n",
        "\n",
        "        # Дополнение списка уникальных кодов наиболее часто встречающимися\n",
        "        for code in most_common_codes:\n",
        "            if len(predicted_codes) == 10:\n",
        "                break\n",
        "            predicted_codes.append(code)\n",
        "        # Дополнение списка самыми популярными кодами по всему датасету, если нужно\n",
        "        for code in total_top_10:\n",
        "            if len(predicted_codes) == 10:\n",
        "                break\n",
        "            if code not in predicted_codes:\n",
        "                predicted_codes.append(code)\n",
        "\n",
        "        return predicted_codes\n",
        "\n",
        "    # Применение функции дополнения к каждому набору предсказаний\n",
        "    for index, row in final_predictions.iterrows():\n",
        "        final_predictions.at[index, 'Predicted'] = fill_codes(row['Predicted'], sequences_dict, total_top_10)\n",
        "\n",
        "    return final_predictions\n"
      ],
      "metadata": {
        "execution": {
          "iopub.status.busy": "2024-02-13T19:22:06.042946Z",
          "iopub.execute_input": "2024-02-13T19:22:06.043432Z",
          "iopub.status.idle": "2024-02-13T19:22:06.059322Z",
          "shell.execute_reply.started": "2024-02-13T19:22:06.043397Z",
          "shell.execute_reply": "2024-02-13T19:22:06.057247Z"
        },
        "trusted": true,
        "id": "U3rsu9sWG29f"
      },
      "execution_count": null,
      "outputs": []
    },
    {
      "cell_type": "code",
      "source": [
        "final = preprocess_and_postprocess_predictions(final_predictions, total_top_10, sequences_dict)"
      ],
      "metadata": {
        "execution": {
          "iopub.status.busy": "2024-02-13T19:22:14.718936Z",
          "iopub.execute_input": "2024-02-13T19:22:14.719962Z",
          "iopub.status.idle": "2024-02-13T19:22:16.472333Z",
          "shell.execute_reply.started": "2024-02-13T19:22:14.719921Z",
          "shell.execute_reply": "2024-02-13T19:22:16.471257Z"
        },
        "trusted": true,
        "id": "iym7dPEoG29f"
      },
      "execution_count": null,
      "outputs": []
    },
    {
      "cell_type": "code",
      "source": [
        "submission = final[['Id', 'Predicted']]\n",
        "submission['Predicted'] = submission['Predicted'].apply(lambda x: str(x).replace(',', '')[1:-1])\n",
        "submission.to_csv('submission_no_repeats_final.csv', index=False)"
      ],
      "metadata": {
        "execution": {
          "iopub.status.busy": "2024-02-13T19:25:08.476145Z",
          "iopub.execute_input": "2024-02-13T19:25:08.476633Z",
          "iopub.status.idle": "2024-02-13T19:25:08.546291Z",
          "shell.execute_reply.started": "2024-02-13T19:25:08.476599Z",
          "shell.execute_reply": "2024-02-13T19:25:08.545014Z"
        },
        "trusted": true,
        "id": "lB0aJUnTG29g"
      },
      "execution_count": null,
      "outputs": []
    },
    {
      "cell_type": "code",
      "source": [
        "from IPython.display import FileLink\n",
        "FileLink('submission_no_repeats_final.csv')\n"
      ],
      "metadata": {
        "execution": {
          "iopub.status.busy": "2024-02-13T19:25:28.485619Z",
          "iopub.execute_input": "2024-02-13T19:25:28.486104Z",
          "iopub.status.idle": "2024-02-13T19:25:28.495246Z",
          "shell.execute_reply.started": "2024-02-13T19:25:28.486068Z",
          "shell.execute_reply": "2024-02-13T19:25:28.493764Z"
        },
        "trusted": true,
        "id": "9RL39JiTG29g",
        "outputId": "e2c5299e-bbb9-434a-a14f-86979344ad76"
      },
      "execution_count": null,
      "outputs": [
        {
          "execution_count": 22,
          "output_type": "execute_result",
          "data": {
            "text/plain": "/kaggle/working/submission_no_repeats_final.csv",
            "text/html": "<a href='submission_no_repeats_final.csv' target='_blank'>submission_no_repeats_final.csv</a><br>"
          },
          "metadata": {}
        }
      ]
    }
  ]
}